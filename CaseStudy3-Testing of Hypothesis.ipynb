{
 "cells": [
  {
   "cell_type": "code",
   "execution_count": 2,
   "id": "ae2992de",
   "metadata": {},
   "outputs": [
    {
     "name": "stdout",
     "output_type": "stream",
     "text": [
      "       Month      Region      Manager  Sales_before_digital_add(in $)  \\\n",
      "0    Month-1  Region - A  Manager - A                          132921   \n",
      "1    Month-2  Region - A  Manager - C                          149559   \n",
      "2    Month-3  Region - B  Manager - A                          146278   \n",
      "3    Month-4  Region - B  Manager - B                          152167   \n",
      "4    Month-5  Region - C  Manager - B                          159525   \n",
      "5    Month-6  Region - A  Manager - B                          137163   \n",
      "6    Month-7  Region - C  Manager - C                          130625   \n",
      "7    Month-8  Region - A  Manager - A                          131140   \n",
      "8    Month-9  Region - B  Manager - C                          171259   \n",
      "9   Month-10  Region - C  Manager - B                          141956   \n",
      "10  Month-11  Region - B  Manager - C                          159339   \n",
      "11  Month-12  Region - A  Manager - A                          178939   \n",
      "12  Month-13  Region - B  Manager - A                          145062   \n",
      "13  Month-14  Region - A  Manager - A                          151514   \n",
      "14  Month-15  Region - C  Manager - A                          147463   \n",
      "15  Month-16  Region - A  Manager - B                          177195   \n",
      "16  Month-17  Region - A  Manager - C                          140862   \n",
      "17  Month-18  Region - C  Manager - B                          167996   \n",
      "18  Month-19  Region - B  Manager - A                          132135   \n",
      "19  Month-20  Region - A  Manager - B                          152493   \n",
      "20  Month-21  Region - B  Manager - A                          147425   \n",
      "21  Month-22  Region - A  Manager - C                          130263   \n",
      "\n",
      "    Sales_After_digital_add(in $)  \n",
      "0                          270390  \n",
      "1                          223334  \n",
      "2                          244243  \n",
      "3                          231808  \n",
      "4                          258402  \n",
      "5                          256948  \n",
      "6                          222106  \n",
      "7                          230637  \n",
      "8                          226261  \n",
      "9                          193735  \n",
      "10                         203175  \n",
      "11                         276279  \n",
      "12                         205180  \n",
      "13                         253131  \n",
      "14                         229336  \n",
      "15                         187305  \n",
      "16                         234908  \n",
      "17                         191517  \n",
      "18                         227040  \n",
      "19                         212579  \n",
      "20                         263388  \n",
      "21                         243020  \n"
     ]
    }
   ],
   "source": [
    "import pandas as pd\n",
    "import matplotlib.pyplot as plt\n",
    "import seaborn as sns\n",
    "import scipy.stats as stats\n",
    "from scipy.stats import ttest_ind\n",
    "from scipy.stats import chi2_contingency\n",
    "\n",
    "data = pd.read_csv (r'C:/Users/YB519ST/Videos/CaseStudy/Sales_add (1).csv')\n",
    "print(data)\n"
   ]
  },
  {
   "cell_type": "markdown",
   "id": "2d015ab2",
   "metadata": {},
   "source": [
    "# Descripitive Analysis & Null Value Check"
   ]
  },
  {
   "cell_type": "code",
   "execution_count": 3,
   "id": "cbf08722",
   "metadata": {},
   "outputs": [
    {
     "data": {
      "text/html": [
       "<div>\n",
       "<style scoped>\n",
       "    .dataframe tbody tr th:only-of-type {\n",
       "        vertical-align: middle;\n",
       "    }\n",
       "\n",
       "    .dataframe tbody tr th {\n",
       "        vertical-align: top;\n",
       "    }\n",
       "\n",
       "    .dataframe thead th {\n",
       "        text-align: right;\n",
       "    }\n",
       "</style>\n",
       "<table border=\"1\" class=\"dataframe\">\n",
       "  <thead>\n",
       "    <tr style=\"text-align: right;\">\n",
       "      <th></th>\n",
       "      <th>Sales_before_digital_add(in $)</th>\n",
       "      <th>Sales_After_digital_add(in $)</th>\n",
       "    </tr>\n",
       "  </thead>\n",
       "  <tbody>\n",
       "    <tr>\n",
       "      <th>count</th>\n",
       "      <td>22.000000</td>\n",
       "      <td>22.000000</td>\n",
       "    </tr>\n",
       "    <tr>\n",
       "      <th>mean</th>\n",
       "      <td>149239.954545</td>\n",
       "      <td>231123.727273</td>\n",
       "    </tr>\n",
       "    <tr>\n",
       "      <th>std</th>\n",
       "      <td>14844.042921</td>\n",
       "      <td>25556.777061</td>\n",
       "    </tr>\n",
       "    <tr>\n",
       "      <th>min</th>\n",
       "      <td>130263.000000</td>\n",
       "      <td>187305.000000</td>\n",
       "    </tr>\n",
       "    <tr>\n",
       "      <th>25%</th>\n",
       "      <td>138087.750000</td>\n",
       "      <td>214960.750000</td>\n",
       "    </tr>\n",
       "    <tr>\n",
       "      <th>50%</th>\n",
       "      <td>147444.000000</td>\n",
       "      <td>229986.500000</td>\n",
       "    </tr>\n",
       "    <tr>\n",
       "      <th>75%</th>\n",
       "      <td>157627.500000</td>\n",
       "      <td>250909.000000</td>\n",
       "    </tr>\n",
       "    <tr>\n",
       "      <th>max</th>\n",
       "      <td>178939.000000</td>\n",
       "      <td>276279.000000</td>\n",
       "    </tr>\n",
       "  </tbody>\n",
       "</table>\n",
       "</div>"
      ],
      "text/plain": [
       "       Sales_before_digital_add(in $)  Sales_After_digital_add(in $)\n",
       "count                       22.000000                      22.000000\n",
       "mean                    149239.954545                  231123.727273\n",
       "std                      14844.042921                   25556.777061\n",
       "min                     130263.000000                  187305.000000\n",
       "25%                     138087.750000                  214960.750000\n",
       "50%                     147444.000000                  229986.500000\n",
       "75%                     157627.500000                  250909.000000\n",
       "max                     178939.000000                  276279.000000"
      ]
     },
     "execution_count": 3,
     "metadata": {},
     "output_type": "execute_result"
    }
   ],
   "source": [
    "data.describe()"
   ]
  },
  {
   "cell_type": "code",
   "execution_count": 4,
   "id": "6373d522",
   "metadata": {},
   "outputs": [
    {
     "data": {
      "text/plain": [
       "Month                             0\n",
       "Region                            0\n",
       "Manager                           0\n",
       "Sales_before_digital_add(in $)    0\n",
       "Sales_After_digital_add(in $)     0\n",
       "dtype: int64"
      ]
     },
     "execution_count": 4,
     "metadata": {},
     "output_type": "execute_result"
    }
   ],
   "source": [
    "data.isnull().sum()"
   ]
  },
  {
   "cell_type": "markdown",
   "id": "b84b737f",
   "metadata": {},
   "source": [
    "From the above analysis we can conclude that :\n",
    "\n",
    "We have 22 rows and 5 Features(Columns) in the dataset.\n",
    "\n",
    "\n",
    "No missing values in the given data set."
   ]
  },
  {
   "cell_type": "markdown",
   "id": "522aade7",
   "metadata": {},
   "source": [
    "**Performing the case study as required by the company**"
   ]
  },
  {
   "cell_type": "code",
   "execution_count": 7,
   "id": "baebdc6f",
   "metadata": {},
   "outputs": [
    {
     "data": {
      "text/plain": [
       "[Text(0.5, 1.0, 'Sales After digital add(in $)')]"
      ]
     },
     "execution_count": 7,
     "metadata": {},
     "output_type": "execute_result"
    },
    {
     "data": {
      "image/png": "[encoded data removed]",
      "text/plain": [
       "<Figure size 1440x720 with 2 Axes>"
      ]
     },
     "metadata": {
      "needs_background": "light"
     },
     "output_type": "display_data"
    }
   ],
   "source": [
    "\n",
    "fig, (ax4,ax5) = plt.subplots(figsize = (20,10), nrows = 1, ncols = 2)\n",
    "\n",
    "# Plotting and customizing the axes\n",
    "sns.boxplot( y = \"Sales_before_digital_add(in $)\" , data = data, ax = ax4)\n",
    "ax4.set(title = \"Sales Before digital add(in $)\")\n",
    "sns.boxplot( y = \"Sales_After_digital_add(in $)\" , data = data, ax = ax5);\n",
    "ax5.set(title = \"Sales After digital add(in $)\")"
   ]
  },
  {
   "cell_type": "markdown",
   "id": "18613e52",
   "metadata": {},
   "source": [
    "**Case 1: Whether there is any increase in sales after stepping into digital marketing** "
   ]
  },
  {
   "cell_type": "markdown",
   "id": "5e996e30",
   "metadata": {},
   "source": [
    "**STEP 1**\n",
    "\n",
    "We'll define the Null and Alternate Hypothesis. and set the Significance level.\n",
    "\n",
    "Null Hypothesis :\n",
    "H0 : Sales After Digital Advertising will be less than or equal to the sales before Digital Advertising.\n",
    "\n",
    "Alternate Hypothesis :\n",
    "Ha : Sales After Digital Advertising will be Greater than the sales before usage of Digital Advertising.\n",
    "\n",
    "The Confidence level for this test will be 95% & we'll set the level of Significance as alpha = 0.05.\n",
    "\n",
    "**STEP 2**\n",
    "\n",
    "calculating the T-score and p value ."
   ]
  },
  {
   "cell_type": "code",
   "execution_count": 9,
   "id": "c001d718",
   "metadata": {},
   "outputs": [
    {
     "name": "stdout",
     "output_type": "stream",
     "text": [
      "The Test statistic scores are : \n",
      "t-score = 12.091 , p-value = 0.000 \n",
      "\n"
     ]
    }
   ],
   "source": [
    "sales_before = df[[\"Sales_before_digital_add(in $)\"]]\n",
    "\n",
    "sales_after = df[[\"Sales_After_digital_add(in $)\"]]\n",
    "\n",
    "#  Conducting a 2 sample 1 tail T test:\n",
    "\n",
    "t_score, p = stats.ttest_rel(sales_after, sales_before, alternative=\"greater\")\n",
    "print(\"The Test statistic scores are : \\nt-score = %0.3f , p-value = %0.3f \\n\" % (t_score, p) )"
   ]
  },
  {
   "cell_type": "markdown",
   "id": "7e5db4eb",
   "metadata": {},
   "source": [
    "**Step 3:**\n",
    "\n",
    "Calculated t score with the Critical Value"
   ]
  },
  {
   "cell_type": "code",
   "execution_count": 14,
   "id": "104ca9a3",
   "metadata": {},
   "outputs": [
    {
     "name": "stdout",
     "output_type": "stream",
     "text": [
      "Rejecting the H0\n",
      "\n",
      "\n"
     ]
    }
   ],
   "source": [
    "t_critical = 1.721 \n",
    "\n",
    "if t_score > t_critical:\n",
    "    print(\"Rejecting the H0\\n\\n\")\n",
    "else:\n",
    "\n",
    "    print(\"\\ failing to reject the H0\\n\")"
   ]
  },
  {
   "cell_type": "markdown",
   "id": "2fe2398f",
   "metadata": {},
   "source": [
    "**STEP 4:**\n",
    "\n",
    "inferences\n",
    "\n",
    "From the above Analysis we can say the following about our Hypothesis:\n",
    "\n",
    "As the calculated t-score > critical t-score value (i.e. at 5% or 0.05), We Reject the H0 ie is Null Hypothesis. We can say that there is a significant increase in sales after doing Digital advertisements."
   ]
  },
  {
   "cell_type": "markdown",
   "id": "c9b7e75d",
   "metadata": {},
   "source": [
    "**Case 2 : Checking whether there is any dependency between the features “Region” and “Manager”**"
   ]
  },
  {
   "cell_type": "markdown",
   "id": "3a42f259",
   "metadata": {},
   "source": [
    "STEP 1:\n",
    "\n",
    "We'll define the Null and Alternate Hypothesis. and set the Significance level.\n",
    "\n",
    "Assuming that:\n",
    "\n",
    "Null Hypothesis\n",
    "\n",
    "H0 : No significant dependency between the Region and the Manager features.\n",
    "\n",
    "Alternate Hypothesis\n",
    "\n",
    "Ha : There is a significant amount of dependency between the Region and the Manager features.\n",
    "\n",
    "The Confidence level for this test will be 95% & we'll set the level of Significance as alpha = 0.05."
   ]
  },
  {
   "cell_type": "markdown",
   "id": "55e05e69",
   "metadata": {},
   "source": [
    "**Step 2: Summarising the Data**"
   ]
  },
  {
   "cell_type": "code",
   "execution_count": 11,
   "id": "cb03cfaf",
   "metadata": {},
   "outputs": [
    {
     "data": {
      "text/html": [
       "<div>\n",
       "<style scoped>\n",
       "    .dataframe tbody tr th:only-of-type {\n",
       "        vertical-align: middle;\n",
       "    }\n",
       "\n",
       "    .dataframe tbody tr th {\n",
       "        vertical-align: top;\n",
       "    }\n",
       "\n",
       "    .dataframe thead th {\n",
       "        text-align: right;\n",
       "    }\n",
       "</style>\n",
       "<table border=\"1\" class=\"dataframe\">\n",
       "  <thead>\n",
       "    <tr style=\"text-align: right;\">\n",
       "      <th>Manager</th>\n",
       "      <th>Manager - A</th>\n",
       "      <th>Manager - B</th>\n",
       "      <th>Manager - C</th>\n",
       "    </tr>\n",
       "    <tr>\n",
       "      <th>Region</th>\n",
       "      <th></th>\n",
       "      <th></th>\n",
       "      <th></th>\n",
       "    </tr>\n",
       "  </thead>\n",
       "  <tbody>\n",
       "    <tr>\n",
       "      <th>Region - A</th>\n",
       "      <td>4</td>\n",
       "      <td>3</td>\n",
       "      <td>3</td>\n",
       "    </tr>\n",
       "    <tr>\n",
       "      <th>Region - B</th>\n",
       "      <td>4</td>\n",
       "      <td>1</td>\n",
       "      <td>2</td>\n",
       "    </tr>\n",
       "    <tr>\n",
       "      <th>Region - C</th>\n",
       "      <td>1</td>\n",
       "      <td>3</td>\n",
       "      <td>1</td>\n",
       "    </tr>\n",
       "  </tbody>\n",
       "</table>\n",
       "</div>"
      ],
      "text/plain": [
       "Manager     Manager - A  Manager - B  Manager - C\n",
       "Region                                           \n",
       "Region - A            4            3            3\n",
       "Region - B            4            1            2\n",
       "Region - C            1            3            1"
      ]
     },
     "execution_count": 11,
     "metadata": {},
     "output_type": "execute_result"
    }
   ],
   "source": [
    "data_value = pd.crosstab(data[\"Region\"],data[\"Manager\"])\n",
    "data_value"
   ]
  },
  {
   "cell_type": "markdown",
   "id": "0af4784e",
   "metadata": {},
   "source": [
    "**Step3:** Calculating  degree of Freedom,Chi square value, pvalue,"
   ]
  },
  {
   "cell_type": "code",
   "execution_count": 13,
   "id": "d27e74e5",
   "metadata": {},
   "outputs": [
    {
     "name": "stdout",
     "output_type": "stream",
     "text": [
      "The Test chi-square value is :\t3.051\n",
      "\n",
      "The p-Value is :  \t0.549\n",
      "\n",
      "The Degree of freedom is : \t4\n",
      "\n",
      " Failing to  reject the H0\n"
     ]
    }
   ],
   "source": [
    "stat, p, dof, expected = chi2_contingency(data_value)\n",
    "\n",
    "print(f\"The Test chi-square value is :\\t{stat:.3f}\")\n",
    "print(f\"\\nThe p-Value is :  \\t{p:.3f}\" )\n",
    "print(f\"\\nThe Degree of freedom is : \\t{dof}\")\n",
    "\n",
    "chi2_critical = 9.488 \n",
    "\n",
    "if stat > chi2_critical:\n",
    "    print(f\"Rejecting the H0\")\n",
    "else:\n",
    "    print (\"\\n Failing to  reject the H0\")"
   ]
  },
  {
   "cell_type": "markdown",
   "id": "f66a2dfc",
   "metadata": {},
   "source": [
    "Step4:\n",
    "\n",
    "From the above Analysis we can say the following about our Hypothesis:\n",
    "\n",
    "The calculated chi2 value < Critical chi2 value at 0.05 significance level and the calculated p-value > 0.05. Failing to reject H0 ie the Null Hypothesis.\n",
    "\n",
    "Hence,we can conclude that there is no significant relationship between the Region and Manager features.\n",
    "\n",
    "Overall Conclusion from the Study\n",
    "\n",
    "**There was a significant amount of increase in sales generated after the company started investing in Digital Marketing.:**\n",
    "\n",
    "**There isn't a significant dependency between the Regions and the Managers associated with the regions:**"
   ]
  },
  {
   "cell_type": "code",
   "execution_count": null,
   "id": "8abd0a38",
   "metadata": {},
   "outputs": [],
   "source": []
  }
 ],
 "metadata": {
  "kernelspec": {
   "display_name": "Python 3 (ipykernel)",
   "language": "python",
   "name": "python3"
  },
  "language_info": {
   "codemirror_mode": {
    "name": "ipython",
    "version": 3
   },
   "file_extension": ".py",
   "mimetype": "text/x-python",
   "name": "python",
   "nbconvert_exporter": "python",
   "pygments_lexer": "ipython3",
   "version": "3.9.12"
  }
 },
 "nbformat": 4,
 "nbformat_minor": 5
}
